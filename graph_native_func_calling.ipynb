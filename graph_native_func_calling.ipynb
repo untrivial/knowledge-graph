{
 "cells": [
  {
   "cell_type": "code",
   "execution_count": 55,
   "metadata": {},
   "outputs": [],
   "source": [
    "from neo4j import GraphDatabase\n",
    "from langchain.graphs import Neo4jGraph\n",
    "from openai import OpenAI\n",
    "from dotenv import load_dotenv\n",
    "import os\n",
    "import json\n",
    "\n",
    "load_dotenv(dotenv_path='secrets.env')\n",
    "\n",
    "url=os.environ[\"NEO4J_URI\"]\n",
    "username=os.environ[\"NEO4J_USERNAME\"]\n",
    "password=os.environ[\"NEO4J_PASSWORD\"]\n"
   ]
  },
  {
   "cell_type": "code",
   "execution_count": 54,
   "metadata": {},
   "outputs": [],
   "source": [
    "client = OpenAI(api_key=os.environ[\"OPENAI_API_KEY\"])"
   ]
  },
  {
   "cell_type": "code",
   "execution_count": 27,
   "metadata": {},
   "outputs": [],
   "source": [
    "graph = Neo4jGraph(\n",
    "    url=os.environ[\"NEO4J_URI\"],\n",
    "    username=os.environ[\"NEO4J_USERNAME\"],\n",
    "    password=os.environ[\"NEO4J_PASSWORD\"]\n",
    ")"
   ]
  },
  {
   "cell_type": "code",
   "execution_count": 41,
   "metadata": {},
   "outputs": [
    {
     "data": {
      "text/plain": [
       "[]"
      ]
     },
     "execution_count": 41,
     "metadata": {},
     "output_type": "execute_result"
    }
   ],
   "source": [
    "# Delete the graph\n",
    "graph.query(\"MATCH (n) DETACH DELETE n\")"
   ]
  },
  {
   "cell_type": "code",
   "execution_count": 37,
   "metadata": {},
   "outputs": [],
   "source": [
    "driver = GraphDatabase.driver(url, auth=(username, password))"
   ]
  },
  {
   "cell_type": "code",
   "execution_count": 51,
   "metadata": {},
   "outputs": [],
   "source": [
    "def add_node(tx, name, type):\n",
    "    tx.run(f\"CREATE (n:{type} {{name: $name}})\", name=name)\n",
    "\n",
    "def add_edge(tx, source, target, type):\n",
    "    tx.run(f\"MATCH (s), (t) WHERE s.name = $source AND t.name = $target CREATE (s)-[r:{type}]->(t)\", source=source, target=target)\n"
   ]
  },
  {
   "cell_type": "code",
   "execution_count": 53,
   "metadata": {},
   "outputs": [],
   "source": [
    "# with driver.session() as session:\n",
    "#     session.execute_write(add_node, \"The Pentagon\", \"Building\")\n",
    "#     session.execute_write(add_edge, \"Alice\", \"The Pentagon\", \"LIVES_IN\")\n"
   ]
  },
  {
   "cell_type": "code",
   "execution_count": 57,
   "metadata": {},
   "outputs": [],
   "source": [
    "node_functions = [\n",
    "    {\n",
    "        # could add Properties to the node\n",
    "        \"name\": 'extract_node',\n",
    "        \"description\": \"Extract a node entity from a document\",\n",
    "        \"parameters\": {\n",
    "            \"type\": \"object\",\n",
    "            \"properties\": {\n",
    "                \"name\": {\n",
    "                    \"type\": \"string\",\n",
    "                    \"description\": \"A short name for the node entity.\"\n",
    "                },\n",
    "                \"type\": {\n",
    "                    \"type\": \"string\",\n",
    "                    \"description\": \"The type of the node entity.\"\n",
    "                }\n",
    "            },\n",
    "            \"required\": [\"name\", \"type\"]\n",
    "        }\n",
    "    }\n",
    "]"
   ]
  },
  {
   "cell_type": "code",
   "execution_count": 56,
   "metadata": {},
   "outputs": [],
   "source": [
    "test_string = \"Alice lives in the Pentagon. Bob lives in the White House.\""
   ]
  },
  {
   "cell_type": "code",
   "execution_count": 64,
   "metadata": {},
   "outputs": [],
   "source": [
    "''' PARAMETERS '''\n",
    "\n",
    "loop_parameter = 5"
   ]
  },
  {
   "cell_type": "code",
   "execution_count": 108,
   "metadata": {},
   "outputs": [],
   "source": [
    "# function to identify nodes in a block of text\n",
    "\n",
    "def get_nodes_from_text(text, loop_parameter=loop_parameter):\n",
    "    nodes = []\n",
    "    for i in range(loop_parameter):\n",
    "        decide_continue_response = client.chat.completions.create(\n",
    "            model=\"gpt-3.5-turbo\",\n",
    "            messages=[\n",
    "                {'role': 'system', 'content': 'You are a highly intelligent agent creating a knowledge graph from a given block of text. Your job is to answer a yes or no question: whether you have found all nodes (entities and concepts) in the provided text.'},\n",
    "                {'role': 'user', 'content': \n",
    "                    'The block of text is:\\n\\n' \n",
    "                    + text \n",
    "                    + '\\n\\nYou have already identified these nodes:\\n\\n'\n",
    "                    + ','.join(str(x) for x in nodes) \n",
    "                    + '\\n\\nIf you think you have identified every node, please respond with the word \"yes\". Else, please respond with the word \"no\". Do not respond with anything else. You must respond with either yes or no.'}\n",
    "                ]\n",
    "        )\n",
    "        if (decide_continue_response.choices[0].message.content.lower() == 'yes'):\n",
    "            break\n",
    "        elif (decide_continue_response.choices[0].message.content.lower() == 'no'):\n",
    "            node_response = client.chat.completions.create(\n",
    "                model=\"gpt-3.5-turbo\",\n",
    "                messages=[{'role': 'user', 'content': \n",
    "                        'You are a highly intelligent agent creating a knowledge graph from a given block of text. Your job is to identify nodes (entities and concepts) in the text. Nodes must have short, unique names and a clear type. You have already identified the following nodes\\n' + ','.join(str(x) for x in nodes) + '\\n Do not duplicate any of the nodes that you have already identified. There is a heavy penalty if you repeat the same node. If you have identified every node in the text, do not call the function.\\n\\nThe block of text is as follows: \\n\\n' + text}],\n",
    "                functions = node_functions,\n",
    "                function_call = 'auto'\n",
    "            )\n",
    "        \n",
    "            json_response = json.loads(node_response.choices[0].message.function_call.arguments)\n",
    "            if (json_response not in nodes):\n",
    "                nodes.append(json_response)\n",
    "        else:\n",
    "            print(\"Error: Unexpected response from the model.\\n\\n\" + decide_continue_response.choices[0].message.content)\n",
    "            print(\"Nodes identified so far:\")\n",
    "            return nodes\n",
    "    \n",
    "    print(\"Finished identifying nodes.\")\n",
    "    \n",
    "    if (len(nodes) == 0):\n",
    "        print(\"Error: No nodes were identified in the text.\")\n",
    "        print(\"Trying again...\")\n",
    "        return get_nodes_from_text(text, loop_parameter)\n",
    "    else:\n",
    "        return nodes"
   ]
  },
  {
   "cell_type": "code",
   "execution_count": null,
   "metadata": {},
   "outputs": [],
   "source": [
    "nodes = get_nodes_from_text(test_string)\n",
    "for node in nodes:\n",
    "    print(node)\n"
   ]
  }
 ],
 "metadata": {
  "kernelspec": {
   "display_name": "venv",
   "language": "python",
   "name": "python3"
  },
  "language_info": {
   "codemirror_mode": {
    "name": "ipython",
    "version": 3
   },
   "file_extension": ".py",
   "mimetype": "text/x-python",
   "name": "python",
   "nbconvert_exporter": "python",
   "pygments_lexer": "ipython3",
   "version": "3.11.1"
  }
 },
 "nbformat": 4,
 "nbformat_minor": 2
}
